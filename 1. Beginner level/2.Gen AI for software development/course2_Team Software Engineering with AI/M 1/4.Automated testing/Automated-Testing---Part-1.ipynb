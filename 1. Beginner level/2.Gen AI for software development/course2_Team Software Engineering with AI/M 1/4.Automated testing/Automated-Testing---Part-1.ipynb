{
  "cells": [
    {
      "cell_type": "markdown",
      "source": [
        "Write a Python script using pytest to test a task management system. The system should allow adding, removing, listing, and clearing tasks. Implement a set of test cases to verify the functionality of adding tasks, listing tasks, and handling multiple tasks using parameterized testing."
      ],
      "metadata": {
        "id": "LpAhZzpOKJGO"
      }
    },
    {
      "cell_type": "code",
      "execution_count": null,
      "metadata": {
        "colab": {
          "base_uri": "https://localhost:8080/"
        },
        "id": "ndhsWhnGuY7c",
        "outputId": "4adfb72b-ad61-4b9b-d443-d0e3d8b4fd43"
      },
      "outputs": [
        {
          "name": "stdout",
          "output_type": "stream",
          "text": [
            "Writing tasks.py\n"
          ]
        }
      ],
      "source": [
        "%%file tasks.py\n",
        "import pytest\n",
        "tasks = []\n",
        "\n",
        "def add_task(task):\n",
        "    tasks.append(task)\n",
        "    return tasks\n",
        "\n",
        "def remove_task(task):\n",
        "    if task in tasks:\n",
        "        tasks.remove(task)\n",
        "        return tasks\n",
        "    else:\n",
        "        return \"Task not found.\"\n",
        "\n",
        "def list_tasks():\n",
        "    return tasks\n",
        "\n",
        "def clear_tasks():\n",
        "    tasks.clear()\n",
        "    return \"Tasks cleared.\"\n",
        "\n",
        "def test_add_task():\n",
        "    clear_tasks()\n",
        "    assert add_task('Buy groceries') == ['Buy groceries']\n",
        "    assert add_task('Read a book') == ['Buy groceries', 'Read a book']\n",
        "    clear_tasks()\n",
        "\n",
        "def test_list_tasks():\n",
        "    clear_tasks()\n",
        "    assert list_tasks() == []\n",
        "    add_task('Buy groceries')\n",
        "    assert list_tasks() == ['Buy groceries']\n",
        "    add_task('Go for a run')\n",
        "    assert list_tasks() == ['Buy groceries', 'Go for a run']\n",
        "    clear_tasks()\n",
        "\n",
        "@pytest.mark.parametrize(\"task, expected\", [\n",
        "    ('Buy groceries', ['Buy groceries']),\n",
        "    ('Read a book', ['Buy groceries', 'Read a book']),\n",
        "    ('Exercise', ['Buy groceries', 'Read a book', 'Exercise'])\n",
        "])\n",
        "def test_add_task_param(task, expected):\n",
        "    assert add_task(task) == expected\n",
        "\n",
        "\n"
      ]
    },
    {
      "cell_type": "code",
      "execution_count": null,
      "metadata": {
        "colab": {
          "base_uri": "https://localhost:8080/"
        },
        "id": "MYnYKJOmuvVo",
        "outputId": "2c489eb9-7801-47a2-9aaa-a64a5edbf804"
      },
      "outputs": [
        {
          "name": "stdout",
          "output_type": "stream",
          "text": [
            "\u001b[1m======================================= test session starts ========================================\u001b[0m\n",
            "platform linux -- Python 3.10.12, pytest-7.4.4, pluggy-1.5.0\n",
            "rootdir: /content\n",
            "plugins: anyio-3.7.1, typeguard-4.3.0\n",
            "\u001b[1mcollecting ... \u001b[0m\u001b[1m\rcollected 5 items                                                                                  \u001b[0m\n",
            "\n",
            "tasks.py \u001b[32m.\u001b[0m\u001b[32m.\u001b[0m\u001b[32m.\u001b[0m\u001b[32m.\u001b[0m\u001b[32m.\u001b[0m\u001b[32m                                                                               [100%]\u001b[0m\n",
            "\n",
            "\u001b[32m======================================== \u001b[32m\u001b[1m5 passed\u001b[0m\u001b[32m in 0.03s\u001b[0m\u001b[32m =========================================\u001b[0m\n"
          ]
        }
      ],
      "source": [
        "!pytest tasks.py"
      ]
    }
  ],
  "metadata": {
    "colab": {
      "provenance": []
    },
    "kernelspec": {
      "display_name": "Python 3",
      "name": "python3"
    },
    "language_info": {
      "name": "python"
    }
  },
  "nbformat": 4,
  "nbformat_minor": 0
}