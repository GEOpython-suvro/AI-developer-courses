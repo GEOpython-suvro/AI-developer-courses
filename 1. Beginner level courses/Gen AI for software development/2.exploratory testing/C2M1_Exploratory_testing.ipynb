{
  "nbformat": 4,
  "nbformat_minor": 0,
  "metadata": {
    "colab": {
      "provenance": []
    },
    "kernelspec": {
      "name": "python3",
      "display_name": "Python 3"
    },
    "language_info": {
      "name": "python"
    }
  },
  "cells": [
    {
      "cell_type": "markdown",
      "source": [
        "#Prompt:\n",
        "You are a software engineer and tester who is curious and likes to go through code looking for edge cases. There's some Python code here — please explore it and find any issues that might cause bugs or poor functionality."
      ],
      "metadata": {
        "id": "uen1Ti0ngxUZ"
      }
    },
    {
      "cell_type": "code",
      "execution_count": null,
      "metadata": {
        "id": "TnuOrbvzgMNc"
      },
      "outputs": [],
      "source": [
        "tasks = []\n",
        "\n",
        "def add_task(task):\n",
        "    tasks.append(task)\n",
        "    return f\"Task '{task}' added.\"\n",
        "\n",
        "def remove_task(task):\n",
        "    if task in tasks:\n",
        "        tasks.remove(task)\n",
        "        return f\"Task '{task}' removed.\"\n",
        "    else:\n",
        "        return \"Task not found.\"\n",
        "\n",
        "def list_tasks():\n",
        "    return tasks\n"
      ]
    },
    {
      "cell_type": "markdown",
      "source": [
        "# Code after prompting:"
      ],
      "metadata": {
        "id": "CNm9KOUdhhbL"
      }
    },
    {
      "cell_type": "code",
      "source": [
        "tasks = []\n",
        "\n",
        "# Improvement 1: Prevent duplicate tasks\n",
        "def add_task(task):\n",
        "    # Improvement 2: Ensure task is not empty or made of only whitespace\n",
        "    if not task.strip():\n",
        "        return \"Task cannot be empty.\"\n",
        "\n",
        "    # Improvement 3: Convert task to lowercase to handle case insensitivity\n",
        "    task = task.lower()\n",
        "\n",
        "    if task in tasks:\n",
        "        return f\"Task '{task}' already exists.\"\n",
        "    tasks.append(task)\n",
        "    return f\"Task '{task}' added.\"\n",
        "\n",
        "# Improvement 4: Validate task before removing to ensure it's not empty or whitespace\n",
        "def remove_task(task):\n",
        "    # Handle case insensitivity\n",
        "    task = task.lower()\n",
        "\n",
        "    if not task.strip():\n",
        "        return \"Task cannot be empty.\"\n",
        "\n",
        "    if task in tasks:\n",
        "        tasks.remove(task)\n",
        "        return f\"Task '{task}' removed.\"\n",
        "    else:\n",
        "        return \"Task not found.\"\n",
        "\n",
        "# Improvement 5: Return a copy of the tasks list to prevent external modifications\n",
        "def list_tasks():\n",
        "    return tasks.copy()\n"
      ],
      "metadata": {
        "id": "uoLpFDuZhfhD"
      },
      "execution_count": null,
      "outputs": []
    }
  ]
}