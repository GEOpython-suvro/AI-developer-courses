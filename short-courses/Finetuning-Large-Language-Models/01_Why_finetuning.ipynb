{
  "cells": [
    {
      "cell_type": "markdown",
      "source": [
        "The **BasicModelRunner** abstracts away the underlying complexity of interacting with models like LLaMA-2 and ChatGPT. Instead of dealing with low-level details (such as loading models, managing inputs and outputs, and ensuring compatibility with specific frameworks), the BasicModelRunner provides an easy-to-use interface where you can simply pass a prompt and get a response. This is especially helpful for new coders like yourself because it reduces the complexity of working with different models."
      ],
      "metadata": {
        "id": "jxiExhdi0d6k"
      },
      "id": "jxiExhdi0d6k"
    },
    {
      "cell_type": "markdown",
      "source": [
        "#Prompt to get the following codes-\n",
        "Write simple Python code that compares the performance of non-finetuned, finetuned, and ChatGPT models using **BasicModelRunner**(from llama2 import BasicModelRunner\n",
        "). Initialize meta-llama/Llama-2-7b-hf, meta-llama/Llama-2-7b-chat-hf, and chat-gpt models. Test each model with different inputs. Don't use transformer anywhere. Don't define any function"
      ],
      "metadata": {
        "id": "GpYPDf2g2lDc"
      },
      "id": "GpYPDf2g2lDc"
    },
    {
      "cell_type": "markdown",
      "id": "753b9c5b",
      "metadata": {
        "id": "753b9c5b"
      },
      "source": [
        "# Compare finetuned vs. non-finetuned models"
      ]
    },
    {
      "cell_type": "code",
      "execution_count": null,
      "id": "d6cf94f4",
      "metadata": {
        "id": "d6cf94f4"
      },
      "outputs": [],
      "source": [
        "from llama2 import BasicModelRunner"
      ]
    },
    {
      "cell_type": "markdown",
      "id": "c86d2cd9",
      "metadata": {
        "id": "c86d2cd9"
      },
      "source": [
        "## Try Non-Finetuned models"
      ]
    },
    {
      "cell_type": "code",
      "execution_count": null,
      "id": "1ef82350",
      "metadata": {
        "id": "1ef82350"
      },
      "outputs": [],
      "source": [
        "non_finetuned = BasicModelRunner(\"meta-llama/Llama-2-7b-hf\")"
      ]
    },
    {
      "cell_type": "code",
      "execution_count": null,
      "id": "213b3936",
      "metadata": {
        "id": "213b3936"
      },
      "outputs": [],
      "source": [
        "non_finetuned_output = non_finetuned(\"Tell me how to train my dog to sit\")"
      ]
    },
    {
      "cell_type": "code",
      "execution_count": null,
      "id": "2030a18d",
      "metadata": {
        "id": "2030a18d"
      },
      "outputs": [],
      "source": [
        "print(non_finetuned_output)"
      ]
    },
    {
      "cell_type": "code",
      "execution_count": null,
      "id": "9fd34a82",
      "metadata": {
        "id": "9fd34a82"
      },
      "outputs": [],
      "source": [
        "print(non_finetuned(\"What do you think of Mars?\"))"
      ]
    },
    {
      "cell_type": "code",
      "execution_count": null,
      "id": "b22652ae",
      "metadata": {
        "id": "b22652ae"
      },
      "outputs": [],
      "source": [
        "print(non_finetuned(\"taylor swift's best friend\"))"
      ]
    },
    {
      "cell_type": "code",
      "execution_count": null,
      "id": "05d6d640",
      "metadata": {
        "id": "05d6d640"
      },
      "outputs": [],
      "source": [
        "print(non_finetuned(\"\"\"Agent: I'm here to help you with your Amazon deliver order.\n",
        "Customer: I didn't get my item\n",
        "Agent: I'm sorry to hear that. Which item was it?\n",
        "Customer: the blanket\n",
        "Agent:\"\"\"))"
      ]
    },
    {
      "cell_type": "markdown",
      "id": "d7aeaeed",
      "metadata": {
        "id": "d7aeaeed"
      },
      "source": [
        "## Compare to finetuned models"
      ]
    },
    {
      "cell_type": "code",
      "execution_count": null,
      "id": "809c1d28",
      "metadata": {
        "id": "809c1d28"
      },
      "outputs": [],
      "source": [
        "finetuned_model = BasicModelRunner(\"meta-llama/Llama-2-7b-chat-hf\")"
      ]
    },
    {
      "cell_type": "code",
      "execution_count": null,
      "id": "588ad61c",
      "metadata": {
        "id": "588ad61c"
      },
      "outputs": [],
      "source": [
        "finetuned_output = finetuned_model(\"Tell me how to train my dog to sit\")"
      ]
    },
    {
      "cell_type": "code",
      "execution_count": null,
      "id": "a6d67df1",
      "metadata": {
        "id": "a6d67df1"
      },
      "outputs": [],
      "source": [
        "print(finetuned_output)"
      ]
    },
    {
      "cell_type": "code",
      "execution_count": null,
      "id": "7e8f0e7f",
      "metadata": {
        "id": "7e8f0e7f"
      },
      "outputs": [],
      "source": [
        "print(finetuned_model(\"[INST]Tell me how to train my dog to sit[/INST]\"))"
      ]
    },
    {
      "cell_type": "code",
      "execution_count": null,
      "id": "215db687",
      "metadata": {
        "id": "215db687"
      },
      "outputs": [],
      "source": [
        "print(non_finetuned(\"[INST]Tell me how to train my dog to sit[/INST]\"))"
      ]
    },
    {
      "cell_type": "code",
      "execution_count": null,
      "id": "01cf87f6",
      "metadata": {
        "id": "01cf87f6"
      },
      "outputs": [],
      "source": [
        "print(finetuned_model(\"What do you think of Mars?\"))"
      ]
    },
    {
      "cell_type": "code",
      "execution_count": null,
      "id": "32db06c7",
      "metadata": {
        "id": "32db06c7"
      },
      "outputs": [],
      "source": [
        "print(finetuned_model(\"taylor swift's best friend\"))"
      ]
    },
    {
      "cell_type": "code",
      "execution_count": null,
      "id": "be48bda1",
      "metadata": {
        "id": "be48bda1"
      },
      "outputs": [],
      "source": [
        "print(finetuned_model(\"\"\"Agent: I'm here to help you with your Amazon deliver order.\n",
        "Customer: I didn't get my item\n",
        "Agent: I'm sorry to hear that. Which item was it?\n",
        "Customer: the blanket\n",
        "Agent:\"\"\"))"
      ]
    },
    {
      "cell_type": "markdown",
      "id": "72033585",
      "metadata": {
        "id": "72033585"
      },
      "source": [
        "## Compare to ChatGPT"
      ]
    },
    {
      "cell_type": "code",
      "execution_count": null,
      "id": "5922c4d0",
      "metadata": {
        "id": "5922c4d0"
      },
      "outputs": [],
      "source": [
        "chatgpt = BasicModelRunner(\"chat-gpt\")"
      ]
    },
    {
      "cell_type": "code",
      "execution_count": null,
      "id": "70c59500",
      "metadata": {
        "id": "70c59500"
      },
      "outputs": [],
      "source": [
        "print(chatgpt(\"Tell me how to train my dog to sit\"))"
      ]
    }
  ],
  "metadata": {
    "kernelspec": {
      "display_name": "Python 3 (ipykernel)",
      "language": "python",
      "name": "python3"
    },
    "language_info": {
      "codemirror_mode": {
        "name": "ipython",
        "version": 3
      },
      "file_extension": ".py",
      "mimetype": "text/x-python",
      "name": "python",
      "nbconvert_exporter": "python",
      "pygments_lexer": "ipython3",
      "version": "3.9.16"
    },
    "colab": {
      "provenance": []
    }
  },
  "nbformat": 4,
  "nbformat_minor": 5
}